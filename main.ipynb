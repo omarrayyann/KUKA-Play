{
 "cells": [
  {
   "cell_type": "code",
   "execution_count": 1,
   "metadata": {},
   "outputs": [],
   "source": [
    "#setup nice plotting\n",
    "%matplotlib widget\n",
    "\n",
    "# we import useful libraries\n",
    "import time\n",
    "import numpy as np\n",
    "import pinocchio\n",
    "import os\n",
    "import meshcat\n",
    "import matplotlib as mp\n",
    "import matplotlib.pyplot as plt\n",
    "import scipy\n",
    "\n",
    "\n",
    "np.set_printoptions(suppress=True, precision=4) # we don't want to print every decimal!"
   ]
  },
  {
   "cell_type": "code",
   "execution_count": 5,
   "metadata": {},
   "outputs": [
    {
     "name": "stdout",
     "output_type": "stream",
     "text": [
      "You can open the visualizer by visiting the following URL:\n",
      "http://127.0.0.1:7003/static/\n"
     ]
    }
   ],
   "source": [
    "# the directory where the robot models are located\n",
    "package_dirs = './urdf/'\n",
    "\n",
    "# the name of the URDF model (the robot model)\n",
    "urdf_file = 'iiwa.urdf'\n",
    "END_EFF_FRAME_ID = 17 # number of the frame corresponding to the end-effector\n",
    "\n",
    "# we load the urdf models with Pinocchio (it will build a robot model, its kinematic tree, etc)\n",
    "urdf = package_dirs + urdf_file\n",
    "robot = pinocchio.RobotWrapper.BuildFromURDF(urdf, package_dirs)\n",
    "\n",
    "# we create the visualization for Meshcat\n",
    "viz = pinocchio.visualize.MeshcatVisualizer(robot.model, robot.collision_model, robot.visual_model)\n",
    "try:\n",
    "    viz.initViewer(open=True)\n",
    "except ImportError as err:\n",
    "    print(\"Error while initializing the viewer. It seems you should install Python meshcat\")\n",
    "    print(err)\n",
    "    sys.exit(0)\n",
    "viz.loadViewerModel()\n",
    "\n",
    "q = pinocchio.neutral(robot.model)\n",
    "viz.display(q) \n",
    "\n",
    "# create a ball to visualize the goal\n",
    "viz.viewer['ball'].set_object(meshcat.geometry.Sphere(0.065), \n",
    "                              meshcat.geometry.MeshLambertMaterial(\n",
    "                             color=0xff22dd,\n",
    "                             reflectivity=0.8))"
   ]
  },
  {
   "cell_type": "code",
   "execution_count": 7,
   "metadata": {},
   "outputs": [],
   "source": [
    "end_eff_desired = np.array([0.5,.6, 0.2])\n",
    "viz.viewer['ball'].set_transform(meshcat.transformations.translation_matrix(end_eff_desired))"
   ]
  },
  {
   "cell_type": "code",
   "execution_count": 13,
   "metadata": {},
   "outputs": [],
   "source": [
    "from_q = np.array([0.1,0.1,0.1,0.1,0.1,0.1,0.1])\n",
    "to_q = np.array([0.1,0.1,0.1,0.1,0.1,0.1,0.1])\n",
    "\n",
    "# q = pinocchio.neutral(robot.model)\n",
    "viz.display(q)\n",
    "time.sleep(0.001)"
   ]
  },
  {
   "cell_type": "code",
   "execution_count": null,
   "metadata": {},
   "outputs": [],
   "source": []
  }
 ],
 "metadata": {
  "kernelspec": {
   "display_name": "Python 3 (ipykernel)",
   "language": "python",
   "name": "python3"
  },
  "language_info": {
   "codemirror_mode": {
    "name": "ipython",
    "version": 3
   },
   "file_extension": ".py",
   "mimetype": "text/x-python",
   "name": "python",
   "nbconvert_exporter": "python",
   "pygments_lexer": "ipython3",
   "version": "3.10.1"
  }
 },
 "nbformat": 4,
 "nbformat_minor": 2
}

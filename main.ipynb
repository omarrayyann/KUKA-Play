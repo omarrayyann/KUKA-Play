{
 "cells": [
  {
   "cell_type": "markdown",
   "metadata": {},
   "source": [
    "# KUKA IIWA-14 Controller"
   ]
  },
  {
   "cell_type": "markdown",
   "metadata": {},
   "source": [
    "**Importing Required Libraries**"
   ]
  },
  {
   "cell_type": "code",
   "execution_count": 3,
   "metadata": {},
   "outputs": [],
   "source": [
    "#setup nice plotting\n",
    "%matplotlib widget\n",
    "import time\n",
    "import numpy as np\n",
    "import pinocchio\n",
    "import os\n",
    "import meshcat\n",
    "import matplotlib as mp\n",
    "import matplotlib.pyplot as plt\n",
    "import scipy\n",
    "from utils import Trajectory, move_joints_position, move_trajectory\n",
    "np.set_printoptions(suppress=True, precision=4) # we don't want to print every decimal!"
   ]
  },
  {
   "cell_type": "markdown",
   "metadata": {},
   "source": [
    "**Setting up environment and simulation**"
   ]
  },
  {
   "cell_type": "code",
   "execution_count": 4,
   "metadata": {},
   "outputs": [
    {
     "name": "stdout",
     "output_type": "stream",
     "text": [
      "You can open the visualizer by visiting the following URL:\n",
      "http://127.0.0.1:7001/static/\n"
     ]
    }
   ],
   "source": [
    "package_dirs = './urdf/'\n",
    "urdf_file = 'iiwa.urdf'\n",
    "END_EFF_FRAME_ID = 17 # number of the frame corresponding to the end-effector\n",
    "urdf = package_dirs + urdf_file\n",
    "robot = pinocchio.RobotWrapper.BuildFromURDF(urdf, package_dirs)\n",
    "\n",
    "viz = pinocchio.visualize.MeshcatVisualizer(robot.model, robot.collision_model, robot.visual_model)\n",
    "try:\n",
    "    viz.initViewer(open=True)\n",
    "except ImportError as err:\n",
    "    print(\"Error while initializing the viewer. It seems you should install Python meshcat\")\n",
    "    print(err)\n",
    "    sys.exit(0)\n",
    "viz.loadViewerModel()\n",
    "q = pinocchio.neutral(robot.model)\n",
    "viz.display(q) "
   ]
  },
  {
   "cell_type": "code",
   "execution_count": 11,
   "metadata": {},
   "outputs": [],
   "source": [
    "from_q = np.array([0.1,0.1,0.1,0.1,0.1,0.1,0.1])\n",
    "to_q = 15*np.array([0.1,0.1,0.1,0.1,0.1,0.1,0.1])\n",
    "\n",
    "trajectory = Trajectory(from_q=from_q, to_q=to_q, total_time=2.0)\n",
    "move_trajectory(viz,frequency=100.0,trajectory=trajectory)\n",
    "\n",
    "trajectory = Trajectory(from_q=to_q, to_q=from_q, total_time=2.0)\n",
    "move_trajectory(viz,frequency=100.0,trajectory=trajectory)"
   ]
  },
  {
   "cell_type": "code",
   "execution_count": 15,
   "metadata": {},
   "outputs": [],
   "source": [
    "viz.viewer['ball'].set_object(meshcat.geometry.Sphere(0.065), \n",
    "                              meshcat.geometry.MeshLambertMaterial(\n",
    "                             color=0xff22dd,\n",
    "                             reflectivity=0.8))\n",
    "des_pos = np.array([0.5, 0.5, 0.5])\n",
    "viz.viewer['ball'].set_transform(meshcat.transformations.translation_matrix(des_pos))"
   ]
  }
 ],
 "metadata": {
  "kernelspec": {
   "display_name": "Python 3 (ipykernel)",
   "language": "python",
   "name": "python3"
  },
  "language_info": {
   "codemirror_mode": {
    "name": "ipython",
    "version": 3
   },
   "file_extension": ".py",
   "mimetype": "text/x-python",
   "name": "python",
   "nbconvert_exporter": "python",
   "pygments_lexer": "ipython3",
   "version": "3.10.1"
  }
 },
 "nbformat": 4,
 "nbformat_minor": 2
}
